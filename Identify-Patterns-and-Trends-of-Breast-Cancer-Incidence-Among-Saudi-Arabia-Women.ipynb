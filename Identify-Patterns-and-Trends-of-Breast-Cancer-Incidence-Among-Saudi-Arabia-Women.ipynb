{
 "cells": [
  {
   "attachments": {},
   "cell_type": "markdown",
   "id": "55266179",
   "metadata": {},
   "source": [
    "## Identify Patterns and Trends of Breast Cancer Incidence Among Saudi Arabia Women\n",
    "\n",
    "\n",
    " "
   ]
  },
  {
   "cell_type": "markdown",
   "id": "490236cf",
   "metadata": {},
   "source": [
    "## Research Overview\n",
    "\n",
    "> The primary goal of this Research is to perform Exploratory and Explanatory Data Analytics on Breast Cancer dataset in order to get insights on the relationship among breast cancer attributes.\n",
    "\n",
    "## Dataset Overview\n",
    "> The dataset used in this research was collected from Ministry of Health, King Fahd Medical City Hospital.\n",
    "The dataset primarily include patients records such as age, cancer type, grade, BIRADS, breast density,  Breast Imaging Reporting and Data System (BIRADS) among others. The dataset contains 521 records and 16 columns."
   ]
  },
  {
   "cell_type": "markdown",
   "id": "f0622450",
   "metadata": {},
   "source": [
    "## Data Wrangling\n",
    "> This section entails, gathering, assessing, loading the dataset,  and data cleaning  to make it suitable for a better analysis. "
   ]
  },
  {
   "cell_type": "markdown",
   "id": "cec58d5a",
   "metadata": {},
   "source": [
    "### Data Gathering\n",
    "> This section focus on data gathering, in this regards through dirrect reading of the CSV file."
   ]
  },
  {
   "cell_type": "code",
   "execution_count": 1,
   "id": "1c7290e3",
   "metadata": {},
   "outputs": [],
   "source": [
    "# import all packages and set plots to be embedded inline\n",
    "import numpy as np\n",
    "import pandas as pd\n",
    "import matplotlib.pyplot as plt\n",
    "import seaborn as sb\n",
    "# sb.set(style='darkgrid')\n",
    "\n",
    "%matplotlib inline\n",
    "\n",
    "# suppress warnings from final output\n",
    "import warnings\n",
    "warnings.simplefilter(\"ignore\")"
   ]
  },
  {
   "cell_type": "code",
   "execution_count": 2,
   "id": "d7fdc679",
   "metadata": {},
   "outputs": [],
   "source": [
    "# Read the MoH Breast Cancer Dataset into a DataFrame, aslo drop the first colum\n",
    "breast_cancer_df = pd.read_csv('moh_breast_cancer_data.csv', index_col=0)\n",
    "breast_cancer_df.reset_index(drop=True, inplace=True)"
   ]
  },
  {
   "cell_type": "markdown",
   "id": "90d58f93",
   "metadata": {},
   "source": [
    "### Data Assessing\n",
    "> In this section, the dataset would be assessed in order to identify quality and tidiness issues using both visual assessment and programmatic assessement methods."
   ]
  },
  {
   "cell_type": "code",
   "execution_count": 3,
   "id": "bde103bd",
   "metadata": {},
   "outputs": [
    {
     "data": {
      "text/html": [
       "<div>\n",
       "<style scoped>\n",
       "    .dataframe tbody tr th:only-of-type {\n",
       "        vertical-align: middle;\n",
       "    }\n",
       "\n",
       "    .dataframe tbody tr th {\n",
       "        vertical-align: top;\n",
       "    }\n",
       "\n",
       "    .dataframe thead th {\n",
       "        text-align: right;\n",
       "    }\n",
       "</style>\n",
       "<table border=\"1\" class=\"dataframe\">\n",
       "  <thead>\n",
       "    <tr style=\"text-align: right;\">\n",
       "      <th></th>\n",
       "      <th>AGE</th>\n",
       "      <th>BREAST DENSITY</th>\n",
       "      <th>BIRADS</th>\n",
       "      <th>US</th>\n",
       "      <th>CALCIFICATION</th>\n",
       "      <th>C.TYPE</th>\n",
       "      <th>STAGE</th>\n",
       "      <th>Stages (list)</th>\n",
       "      <th>GRADE</th>\n",
       "      <th>MARKERS</th>\n",
       "      <th>Size US (List)</th>\n",
       "      <th>SIZE SURGRY</th>\n",
       "      <th>LN</th>\n",
       "      <th>L.CTOMY</th>\n",
       "      <th>M.TOMY</th>\n",
       "    </tr>\n",
       "  </thead>\n",
       "  <tbody>\n",
       "    <tr>\n",
       "      <th>0</th>\n",
       "      <td>47.0</td>\n",
       "      <td>C</td>\n",
       "      <td>0</td>\n",
       "      <td>V</td>\n",
       "      <td>P</td>\n",
       "      <td>IDC+DCIS</td>\n",
       "      <td>T1N0M0</td>\n",
       "      <td>1</td>\n",
       "      <td>II</td>\n",
       "      <td>ER+PR+H-</td>\n",
       "      <td>More Than  20 &amp; Less  OR Equal 50 MM</td>\n",
       "      <td>7MM</td>\n",
       "      <td>0l9</td>\n",
       "      <td>LP</td>\n",
       "      <td>MRM</td>\n",
       "    </tr>\n",
       "    <tr>\n",
       "      <th>1</th>\n",
       "      <td>50.0</td>\n",
       "      <td>B</td>\n",
       "      <td>V</td>\n",
       "      <td>V</td>\n",
       "      <td>P</td>\n",
       "      <td>IDC</td>\n",
       "      <td>T2N1M0</td>\n",
       "      <td>2B</td>\n",
       "      <td>III</td>\n",
       "      <td>ER-PR-H+</td>\n",
       "      <td>More Than 10 Less OR Equal 20 MM</td>\n",
       "      <td>15MM</td>\n",
       "      <td>0l1</td>\n",
       "      <td>LP</td>\n",
       "      <td>MRM</td>\n",
       "    </tr>\n",
       "    <tr>\n",
       "      <th>2</th>\n",
       "      <td>39.0</td>\n",
       "      <td>C</td>\n",
       "      <td>0</td>\n",
       "      <td>V</td>\n",
       "      <td>P</td>\n",
       "      <td>IDC+DCIS</td>\n",
       "      <td>T2N0M0</td>\n",
       "      <td>2A</td>\n",
       "      <td>II</td>\n",
       "      <td>ER+PR+H+</td>\n",
       "      <td>More Than  20 &amp; Less  OR Equal 50 MM</td>\n",
       "      <td>15MM</td>\n",
       "      <td>0l16</td>\n",
       "      <td>LP</td>\n",
       "      <td>MRM</td>\n",
       "    </tr>\n",
       "    <tr>\n",
       "      <th>3</th>\n",
       "      <td>56.0</td>\n",
       "      <td>B</td>\n",
       "      <td>V</td>\n",
       "      <td>V</td>\n",
       "      <td>N</td>\n",
       "      <td>IDC</td>\n",
       "      <td>T2N0M0</td>\n",
       "      <td>2A</td>\n",
       "      <td>II</td>\n",
       "      <td>ER+PR+H-</td>\n",
       "      <td>More Than  20 &amp; Less  OR Equal 50 MM</td>\n",
       "      <td>24MM</td>\n",
       "      <td>0l1</td>\n",
       "      <td>LP</td>\n",
       "      <td>MRM</td>\n",
       "    </tr>\n",
       "    <tr>\n",
       "      <th>4</th>\n",
       "      <td>52.0</td>\n",
       "      <td>C</td>\n",
       "      <td>V</td>\n",
       "      <td>V</td>\n",
       "      <td>P</td>\n",
       "      <td>IDC</td>\n",
       "      <td>T1N0M0</td>\n",
       "      <td>0</td>\n",
       "      <td>III</td>\n",
       "      <td>ER+PR-H+</td>\n",
       "      <td>More Than 10 Less OR Equal 20 MM</td>\n",
       "      <td>15MM</td>\n",
       "      <td>0l1</td>\n",
       "      <td>LP</td>\n",
       "      <td>MRM</td>\n",
       "    </tr>\n",
       "    <tr>\n",
       "      <th>5</th>\n",
       "      <td>58.0</td>\n",
       "      <td>NaN</td>\n",
       "      <td>0</td>\n",
       "      <td>V</td>\n",
       "      <td>N</td>\n",
       "      <td>NaN</td>\n",
       "      <td>T1N0M0</td>\n",
       "      <td>0</td>\n",
       "      <td>II</td>\n",
       "      <td>ER+PR+H-</td>\n",
       "      <td>More Than  20 &amp; Less  OR Equal 50 MM</td>\n",
       "      <td>15MM</td>\n",
       "      <td>0l1</td>\n",
       "      <td>LP</td>\n",
       "      <td>MRM</td>\n",
       "    </tr>\n",
       "    <tr>\n",
       "      <th>6</th>\n",
       "      <td>51.0</td>\n",
       "      <td>A</td>\n",
       "      <td>V</td>\n",
       "      <td>V</td>\n",
       "      <td>N</td>\n",
       "      <td>IDC</td>\n",
       "      <td>T2N1M0</td>\n",
       "      <td>2B</td>\n",
       "      <td>II</td>\n",
       "      <td>ER+PR+H-</td>\n",
       "      <td>More Than 10 Less OR Equal 20 MM</td>\n",
       "      <td>17MM</td>\n",
       "      <td>0l1</td>\n",
       "      <td>LP</td>\n",
       "      <td>MRM</td>\n",
       "    </tr>\n",
       "    <tr>\n",
       "      <th>7</th>\n",
       "      <td>42.0</td>\n",
       "      <td>B</td>\n",
       "      <td>0</td>\n",
       "      <td>V</td>\n",
       "      <td>N</td>\n",
       "      <td>IDC+DCIS</td>\n",
       "      <td>T1N0M0</td>\n",
       "      <td>1</td>\n",
       "      <td>II</td>\n",
       "      <td>ER+PR+H-</td>\n",
       "      <td>More Than 10 Less OR Equal 20 MM</td>\n",
       "      <td>15MM</td>\n",
       "      <td>0l1</td>\n",
       "      <td>LP</td>\n",
       "      <td>MRM</td>\n",
       "    </tr>\n",
       "    <tr>\n",
       "      <th>8</th>\n",
       "      <td>43.0</td>\n",
       "      <td>C</td>\n",
       "      <td>V</td>\n",
       "      <td>V</td>\n",
       "      <td>P</td>\n",
       "      <td>IDC+DCIS</td>\n",
       "      <td>T1N0M0</td>\n",
       "      <td>1</td>\n",
       "      <td>III</td>\n",
       "      <td>ER+PR+H-</td>\n",
       "      <td>More Than 10 Less OR Equal 20 MM</td>\n",
       "      <td>18MM</td>\n",
       "      <td>0l1</td>\n",
       "      <td>LP</td>\n",
       "      <td>MRM</td>\n",
       "    </tr>\n",
       "    <tr>\n",
       "      <th>9</th>\n",
       "      <td>61.0</td>\n",
       "      <td>A</td>\n",
       "      <td>V</td>\n",
       "      <td>V</td>\n",
       "      <td>N</td>\n",
       "      <td>IDC</td>\n",
       "      <td>T1N0M0</td>\n",
       "      <td>1</td>\n",
       "      <td>II</td>\n",
       "      <td>ER+PR+H-</td>\n",
       "      <td>More Than 5 LESS OR EQUAL 10 MM</td>\n",
       "      <td>15MM</td>\n",
       "      <td>0l1</td>\n",
       "      <td>LP</td>\n",
       "      <td>MRM</td>\n",
       "    </tr>\n",
       "    <tr>\n",
       "      <th>10</th>\n",
       "      <td>65.0</td>\n",
       "      <td>A</td>\n",
       "      <td>V</td>\n",
       "      <td>V</td>\n",
       "      <td>N</td>\n",
       "      <td>IDC</td>\n",
       "      <td>T2N3M0</td>\n",
       "      <td>3C</td>\n",
       "      <td>II</td>\n",
       "      <td>ER+PR-H-</td>\n",
       "      <td>More Than  20 &amp; Less  OR Equal 50 MM</td>\n",
       "      <td>36MM</td>\n",
       "      <td>15l18</td>\n",
       "      <td>LP</td>\n",
       "      <td>MRM</td>\n",
       "    </tr>\n",
       "    <tr>\n",
       "      <th>11</th>\n",
       "      <td>45.0</td>\n",
       "      <td>B</td>\n",
       "      <td>0</td>\n",
       "      <td>V</td>\n",
       "      <td>P</td>\n",
       "      <td>DCIS+IDC</td>\n",
       "      <td>T1N0M0</td>\n",
       "      <td>1</td>\n",
       "      <td>I</td>\n",
       "      <td>ER+PR+H</td>\n",
       "      <td>More Than 5 LESS OR EQUAL 10 MM</td>\n",
       "      <td>4MM</td>\n",
       "      <td>0l1</td>\n",
       "      <td>LP</td>\n",
       "      <td>SM</td>\n",
       "    </tr>\n",
       "    <tr>\n",
       "      <th>12</th>\n",
       "      <td>48.0</td>\n",
       "      <td>A</td>\n",
       "      <td>V</td>\n",
       "      <td>V</td>\n",
       "      <td>N</td>\n",
       "      <td>IDC</td>\n",
       "      <td>T2N1M0</td>\n",
       "      <td>2B</td>\n",
       "      <td>II</td>\n",
       "      <td>ER+PR+H-</td>\n",
       "      <td>More Than  20 &amp; Less  OR Equal 50 MM</td>\n",
       "      <td>15MM</td>\n",
       "      <td>1l14</td>\n",
       "      <td>LP</td>\n",
       "      <td>MRM</td>\n",
       "    </tr>\n",
       "    <tr>\n",
       "      <th>13</th>\n",
       "      <td>64.0</td>\n",
       "      <td>B</td>\n",
       "      <td>V</td>\n",
       "      <td>V</td>\n",
       "      <td>P</td>\n",
       "      <td>IDC</td>\n",
       "      <td>T1N0M0</td>\n",
       "      <td>0</td>\n",
       "      <td>II</td>\n",
       "      <td>ER-PR-H+</td>\n",
       "      <td>More Than  20 &amp; Less  OR Equal 50 MM</td>\n",
       "      <td>15MM</td>\n",
       "      <td>0l1</td>\n",
       "      <td>LP</td>\n",
       "      <td>MRM</td>\n",
       "    </tr>\n",
       "    <tr>\n",
       "      <th>14</th>\n",
       "      <td>59.0</td>\n",
       "      <td>B</td>\n",
       "      <td>V</td>\n",
       "      <td>V</td>\n",
       "      <td>P</td>\n",
       "      <td>IDC</td>\n",
       "      <td>T3N1M0</td>\n",
       "      <td>3A</td>\n",
       "      <td>III</td>\n",
       "      <td>ER-PR-H-</td>\n",
       "      <td>GREATER Than 50 MM</td>\n",
       "      <td>15MM</td>\n",
       "      <td>0l1</td>\n",
       "      <td>LP</td>\n",
       "      <td>MRM</td>\n",
       "    </tr>\n",
       "    <tr>\n",
       "      <th>15</th>\n",
       "      <td>53.0</td>\n",
       "      <td>C</td>\n",
       "      <td>V</td>\n",
       "      <td>V</td>\n",
       "      <td>N</td>\n",
       "      <td>ILC+LCIS</td>\n",
       "      <td>T2N0M0</td>\n",
       "      <td>2A</td>\n",
       "      <td>II</td>\n",
       "      <td>ER+PR+H-</td>\n",
       "      <td>More Than 10 Less OR Equal 20 MM</td>\n",
       "      <td>13</td>\n",
       "      <td>0l4</td>\n",
       "      <td>LP</td>\n",
       "      <td>MRM</td>\n",
       "    </tr>\n",
       "    <tr>\n",
       "      <th>16</th>\n",
       "      <td>45.0</td>\n",
       "      <td>D</td>\n",
       "      <td>0</td>\n",
       "      <td>IV</td>\n",
       "      <td>N</td>\n",
       "      <td>ILC</td>\n",
       "      <td>T1N0M0</td>\n",
       "      <td>1</td>\n",
       "      <td>II</td>\n",
       "      <td>ER+PR+H-</td>\n",
       "      <td>More Than 10 Less OR Equal 20 MM</td>\n",
       "      <td>15MM</td>\n",
       "      <td>0l3</td>\n",
       "      <td>LP</td>\n",
       "      <td>SM</td>\n",
       "    </tr>\n",
       "    <tr>\n",
       "      <th>17</th>\n",
       "      <td>60.0</td>\n",
       "      <td>A</td>\n",
       "      <td>0</td>\n",
       "      <td>IV</td>\n",
       "      <td>P</td>\n",
       "      <td>IDC+DCIS</td>\n",
       "      <td>T1N0M0</td>\n",
       "      <td>1</td>\n",
       "      <td>II</td>\n",
       "      <td>ER+PR+H+</td>\n",
       "      <td>LESS OR EQUAL 5 MM</td>\n",
       "      <td>2.5MM</td>\n",
       "      <td>0l4</td>\n",
       "      <td>LP</td>\n",
       "      <td>SM</td>\n",
       "    </tr>\n",
       "    <tr>\n",
       "      <th>18</th>\n",
       "      <td>42.0</td>\n",
       "      <td>C</td>\n",
       "      <td>0</td>\n",
       "      <td>V</td>\n",
       "      <td>N</td>\n",
       "      <td>IDC</td>\n",
       "      <td>T1N0M0</td>\n",
       "      <td>0</td>\n",
       "      <td>III</td>\n",
       "      <td>ER-PR-H-</td>\n",
       "      <td>More Than  20 &amp; Less  OR Equal 50 MM</td>\n",
       "      <td>15MM</td>\n",
       "      <td>0</td>\n",
       "      <td>LP</td>\n",
       "      <td>MRM</td>\n",
       "    </tr>\n",
       "    <tr>\n",
       "      <th>19</th>\n",
       "      <td>82.0</td>\n",
       "      <td>B</td>\n",
       "      <td>0</td>\n",
       "      <td>IV</td>\n",
       "      <td>N</td>\n",
       "      <td>IDC</td>\n",
       "      <td>T1N0M0</td>\n",
       "      <td>0</td>\n",
       "      <td>II</td>\n",
       "      <td>ER+PR+H-</td>\n",
       "      <td>More Than 10 Less OR Equal 20 MM</td>\n",
       "      <td>15MM</td>\n",
       "      <td>0l1</td>\n",
       "      <td>LP</td>\n",
       "      <td>MRM</td>\n",
       "    </tr>\n",
       "  </tbody>\n",
       "</table>\n",
       "</div>"
      ],
      "text/plain": [
       "     AGE BREAST DENSITY BIRADS  US CALCIFICATION    C.TYPE   STAGE  \\\n",
       "0   47.0              C      0   V             P  IDC+DCIS  T1N0M0   \n",
       "1   50.0              B      V   V             P       IDC  T2N1M0   \n",
       "2   39.0              C      0   V             P  IDC+DCIS  T2N0M0   \n",
       "3   56.0              B      V   V             N       IDC  T2N0M0   \n",
       "4   52.0              C      V   V             P       IDC  T1N0M0   \n",
       "5   58.0            NaN      0   V             N       NaN  T1N0M0   \n",
       "6   51.0              A      V   V             N       IDC  T2N1M0   \n",
       "7   42.0              B      0   V             N  IDC+DCIS  T1N0M0   \n",
       "8   43.0              C      V   V             P  IDC+DCIS  T1N0M0   \n",
       "9   61.0              A      V   V             N       IDC  T1N0M0   \n",
       "10  65.0              A      V   V             N       IDC  T2N3M0   \n",
       "11  45.0              B      0   V             P  DCIS+IDC  T1N0M0   \n",
       "12  48.0              A      V   V             N       IDC  T2N1M0   \n",
       "13  64.0              B      V   V             P       IDC  T1N0M0   \n",
       "14  59.0              B      V   V             P       IDC  T3N1M0   \n",
       "15  53.0              C      V   V             N  ILC+LCIS  T2N0M0   \n",
       "16  45.0              D      0  IV             N       ILC  T1N0M0   \n",
       "17  60.0              A      0  IV             P  IDC+DCIS  T1N0M0   \n",
       "18  42.0              C      0   V             N       IDC  T1N0M0   \n",
       "19  82.0              B      0  IV             N       IDC  T1N0M0   \n",
       "\n",
       "   Stages (list) GRADE   MARKERS                        Size US (List)  \\\n",
       "0              1    II  ER+PR+H-  More Than  20 & Less  OR Equal 50 MM   \n",
       "1             2B   III  ER-PR-H+      More Than 10 Less OR Equal 20 MM   \n",
       "2             2A    II  ER+PR+H+  More Than  20 & Less  OR Equal 50 MM   \n",
       "3             2A    II  ER+PR+H-  More Than  20 & Less  OR Equal 50 MM   \n",
       "4              0   III  ER+PR-H+      More Than 10 Less OR Equal 20 MM   \n",
       "5              0    II  ER+PR+H-  More Than  20 & Less  OR Equal 50 MM   \n",
       "6             2B    II  ER+PR+H-      More Than 10 Less OR Equal 20 MM   \n",
       "7              1    II  ER+PR+H-      More Than 10 Less OR Equal 20 MM   \n",
       "8              1   III  ER+PR+H-      More Than 10 Less OR Equal 20 MM   \n",
       "9              1    II  ER+PR+H-       More Than 5 LESS OR EQUAL 10 MM   \n",
       "10            3C    II  ER+PR-H-  More Than  20 & Less  OR Equal 50 MM   \n",
       "11             1     I   ER+PR+H       More Than 5 LESS OR EQUAL 10 MM   \n",
       "12            2B    II  ER+PR+H-  More Than  20 & Less  OR Equal 50 MM   \n",
       "13             0    II  ER-PR-H+  More Than  20 & Less  OR Equal 50 MM   \n",
       "14            3A   III  ER-PR-H-                    GREATER Than 50 MM   \n",
       "15            2A    II  ER+PR+H-      More Than 10 Less OR Equal 20 MM   \n",
       "16             1    II  ER+PR+H-      More Than 10 Less OR Equal 20 MM   \n",
       "17             1    II  ER+PR+H+                    LESS OR EQUAL 5 MM   \n",
       "18             0   III  ER-PR-H-  More Than  20 & Less  OR Equal 50 MM   \n",
       "19             0    II  ER+PR+H-      More Than 10 Less OR Equal 20 MM   \n",
       "\n",
       "   SIZE SURGRY     LN L.CTOMY M.TOMY  \n",
       "0          7MM    0l9      LP    MRM  \n",
       "1         15MM    0l1      LP    MRM  \n",
       "2         15MM   0l16      LP    MRM  \n",
       "3         24MM    0l1      LP    MRM  \n",
       "4         15MM    0l1      LP    MRM  \n",
       "5         15MM    0l1      LP    MRM  \n",
       "6         17MM    0l1      LP    MRM  \n",
       "7         15MM    0l1      LP    MRM  \n",
       "8         18MM    0l1      LP    MRM  \n",
       "9         15MM    0l1      LP    MRM  \n",
       "10        36MM  15l18      LP    MRM  \n",
       "11         4MM    0l1      LP     SM  \n",
       "12        15MM   1l14      LP    MRM  \n",
       "13        15MM    0l1      LP    MRM  \n",
       "14        15MM    0l1      LP    MRM  \n",
       "15          13    0l4      LP    MRM  \n",
       "16        15MM    0l3      LP     SM  \n",
       "17       2.5MM    0l4      LP     SM  \n",
       "18        15MM      0      LP    MRM  \n",
       "19        15MM    0l1      LP    MRM  "
      ]
     },
     "execution_count": 3,
     "metadata": {},
     "output_type": "execute_result"
    }
   ],
   "source": [
    "# View the 5 records \n",
    "breast_cancer_df.head(20)"
   ]
  },
  {
   "cell_type": "code",
   "execution_count": 4,
   "id": "5e4f7287",
   "metadata": {},
   "outputs": [
    {
     "data": {
      "text/plain": [
       "(521, 15)"
      ]
     },
     "execution_count": 4,
     "metadata": {},
     "output_type": "execute_result"
    }
   ],
   "source": [
    "# Cheking number rows and columns \n",
    "breast_cancer_df.shape"
   ]
  },
  {
   "cell_type": "markdown",
   "id": "c150221f",
   "metadata": {},
   "source": [
    "After droppig the index column, there are `521` rows and `15` columns in the datatset."
   ]
  },
  {
   "cell_type": "code",
   "execution_count": 5,
   "id": "aea7aff6",
   "metadata": {},
   "outputs": [
    {
     "name": "stdout",
     "output_type": "stream",
     "text": [
      "<class 'pandas.core.frame.DataFrame'>\n",
      "RangeIndex: 521 entries, 0 to 520\n",
      "Data columns (total 15 columns):\n",
      " #   Column          Non-Null Count  Dtype  \n",
      "---  ------          --------------  -----  \n",
      " 0   AGE             520 non-null    float64\n",
      " 1   BREAST DENSITY  495 non-null    object \n",
      " 2   BIRADS          521 non-null    object \n",
      " 3   US              521 non-null    object \n",
      " 4   CALCIFICATION   491 non-null    object \n",
      " 5   C.TYPE          493 non-null    object \n",
      " 6   STAGE           521 non-null    object \n",
      " 7   Stages (list)   521 non-null    object \n",
      " 8   GRADE           521 non-null    object \n",
      " 9   MARKERS         521 non-null    object \n",
      " 10  Size US (List)  521 non-null    object \n",
      " 11  SIZE SURGRY     521 non-null    object \n",
      " 12  LN              521 non-null    object \n",
      " 13  L.CTOMY         521 non-null    object \n",
      " 14  M.TOMY          521 non-null    object \n",
      "dtypes: float64(1), object(14)\n",
      "memory usage: 61.2+ KB\n"
     ]
    }
   ],
   "source": [
    "breast_cancer_df.info()"
   ]
  },
  {
   "cell_type": "markdown",
   "id": "f3d363b5",
   "metadata": {},
   "source": [
    "It can be observed from above that the column labels are not descriptive and no uniform naming convention, hence, they will be renamed with more descriptive names, underscore (`_`) will be used replace white spaces `\" \"` and `.` between two or more words using the `.replace()` function. The column labels will also be converted to lower case using the `.lower()` function, as this will ease better analysis and the use of dot (`.`) notation.\n",
    "Also, the `AGE` datatype is shown as `float` instead of `in`, this will be rectified using `casting`."
   ]
  },
  {
   "cell_type": "code",
   "execution_count": 6,
   "id": "07c04cfd",
   "metadata": {},
   "outputs": [
    {
     "data": {
      "text/html": [
       "<div>\n",
       "<style scoped>\n",
       "    .dataframe tbody tr th:only-of-type {\n",
       "        vertical-align: middle;\n",
       "    }\n",
       "\n",
       "    .dataframe tbody tr th {\n",
       "        vertical-align: top;\n",
       "    }\n",
       "\n",
       "    .dataframe thead th {\n",
       "        text-align: right;\n",
       "    }\n",
       "</style>\n",
       "<table border=\"1\" class=\"dataframe\">\n",
       "  <thead>\n",
       "    <tr style=\"text-align: right;\">\n",
       "      <th></th>\n",
       "      <th>AGE</th>\n",
       "    </tr>\n",
       "  </thead>\n",
       "  <tbody>\n",
       "    <tr>\n",
       "      <th>count</th>\n",
       "      <td>520.000000</td>\n",
       "    </tr>\n",
       "    <tr>\n",
       "      <th>mean</th>\n",
       "      <td>53.453846</td>\n",
       "    </tr>\n",
       "    <tr>\n",
       "      <th>std</th>\n",
       "      <td>8.839273</td>\n",
       "    </tr>\n",
       "    <tr>\n",
       "      <th>min</th>\n",
       "      <td>31.000000</td>\n",
       "    </tr>\n",
       "    <tr>\n",
       "      <th>25%</th>\n",
       "      <td>47.000000</td>\n",
       "    </tr>\n",
       "    <tr>\n",
       "      <th>50%</th>\n",
       "      <td>53.000000</td>\n",
       "    </tr>\n",
       "    <tr>\n",
       "      <th>75%</th>\n",
       "      <td>59.000000</td>\n",
       "    </tr>\n",
       "    <tr>\n",
       "      <th>max</th>\n",
       "      <td>84.000000</td>\n",
       "    </tr>\n",
       "  </tbody>\n",
       "</table>\n",
       "</div>"
      ],
      "text/plain": [
       "              AGE\n",
       "count  520.000000\n",
       "mean    53.453846\n",
       "std      8.839273\n",
       "min     31.000000\n",
       "25%     47.000000\n",
       "50%     53.000000\n",
       "75%     59.000000\n",
       "max     84.000000"
      ]
     },
     "execution_count": 6,
     "metadata": {},
     "output_type": "execute_result"
    }
   ],
   "source": [
    "# Check the statiscal distribution of the data\n",
    "breast_cancer_df.describe()"
   ]
  },
  {
   "cell_type": "markdown",
   "id": "3fb866a7",
   "metadata": {},
   "source": [
    "It can be observed from the above statistical distribution that the maximum age of the patients is `80 years old`, the minimum age is `31 years old`, while the average age of the `53 years old`. Further analyisis will reveal the relationship between the patient’s age, cancer grade and type."
   ]
  },
  {
   "cell_type": "code",
   "execution_count": 7,
   "id": "2c0c6b35",
   "metadata": {},
   "outputs": [
    {
     "name": "stdout",
     "output_type": "stream",
     "text": [
      "Number of duplicate found is 1\n"
     ]
    }
   ],
   "source": [
    "# Cehck for duplicate records\n",
    "print('Number of duplicate found is',sum(breast_cancer_df.duplicated()))"
   ]
  },
  {
   "cell_type": "code",
   "execution_count": 8,
   "id": "21a2075d",
   "metadata": {},
   "outputs": [
    {
     "name": "stdout",
     "output_type": "stream",
     "text": [
      "Number of NULL values is  85\n"
     ]
    }
   ],
   "source": [
    "# Check for total number of NULL value \n",
    "print('Number of NULL values is ',sum(breast_cancer_df.isnull().sum()))"
   ]
  },
  {
   "cell_type": "code",
   "execution_count": 9,
   "id": "89b7a6e8",
   "metadata": {},
   "outputs": [
    {
     "name": "stdout",
     "output_type": "stream",
     "text": [
      "AGE                1\n",
      "BREAST DENSITY    26\n",
      "BIRADS             0\n",
      "US                 0\n",
      "CALCIFICATION     30\n",
      "C.TYPE            28\n",
      "STAGE              0\n",
      "Stages (list)      0\n",
      "GRADE              0\n",
      "MARKERS            0\n",
      "Size US (List)     0\n",
      "SIZE SURGRY        0\n",
      "LN                 0\n",
      "L.CTOMY            0\n",
      "M.TOMY             0\n",
      "dtype: int64\n"
     ]
    }
   ],
   "source": [
    "# Checking for NULL values across the columns\n",
    "null_counts = breast_cancer_df.isnull().sum()\n",
    "print(null_counts)"
   ]
  },
  {
   "cell_type": "markdown",
   "id": "315a7415",
   "metadata": {},
   "source": [
    "It can be noticed that, `CALCIFICATION` has the highest number of NULL values with `30`, followed by `C.TYPE` with `28` and  `BREAST DENSITY` with `26`, while `age` have only `1` NULL value. All these will be treated during data cleaning."
   ]
  },
  {
   "cell_type": "code",
   "execution_count": 10,
   "id": "c4e9b93b",
   "metadata": {},
   "outputs": [
    {
     "name": "stdout",
     "output_type": "stream",
     "text": [
      "0 AGE\n",
      "1 BREAST DENSITY\n",
      "2 BIRADS\n",
      "3 US\n",
      "4 CALCIFICATION\n",
      "5 C.TYPE\n",
      "6 STAGE\n",
      "7 Stages (list)\n",
      "8 GRADE\n",
      "9 MARKERS\n",
      "10 Size US (List)\n",
      "11 SIZE SURGRY\n",
      "12 LN\n",
      "13 L.CTOMY\n",
      "14 M.TOMY\n"
     ]
    }
   ],
   "source": [
    "for i, v in enumerate(breast_cancer_df):\n",
    "    print(i, v)"
   ]
  },
  {
   "cell_type": "code",
   "execution_count": 11,
   "id": "ece5cba3",
   "metadata": {},
   "outputs": [
    {
     "data": {
      "text/plain": [
       "P    246\n",
       "N    244\n",
       "p      1\n",
       "Name: CALCIFICATION, dtype: int64"
      ]
     },
     "execution_count": 11,
     "metadata": {},
     "output_type": "execute_result"
    }
   ],
   "source": [
    "# Check unique values\n",
    "breast_cancer_df.CALCIFICATION.value_counts()"
   ]
  },
  {
   "cell_type": "markdown",
   "id": "fc55e1d7",
   "metadata": {},
   "source": [
    "The classification column have 3 classes `P`, `N` and `p` instead of 2 `P`, `N`. This will be corrected. However, `P` will be replaced with `1`, while `N` will be replaced with `0`. for easy analysis."
   ]
  },
  {
   "cell_type": "markdown",
   "id": "0b52208f",
   "metadata": {},
   "source": [
    "## Data Cleaning\n",
    "> This secion will focus on performing a comprehensive data cleaning by dropping columns that are not needed, perfect the column labels, fill or drop NaN among others."
   ]
  },
  {
   "cell_type": "code",
   "execution_count": 12,
   "id": "956f4bcb",
   "metadata": {},
   "outputs": [],
   "source": [
    "# Normalise the column labels\n",
    "breast_cancer_df.columns = breast_cancer_df.columns.str.replace(\" \", \"_\").str.replace(\"p\",\"P\").str.replace(\".\", \"_\").str.lower()\n"
   ]
  },
  {
   "cell_type": "code",
   "execution_count": 13,
   "id": "6ab42e00",
   "metadata": {},
   "outputs": [
    {
     "data": {
      "text/plain": [
       "P    246\n",
       "N    244\n",
       "p      1\n",
       "Name: calcification, dtype: int64"
      ]
     },
     "execution_count": 13,
     "metadata": {},
     "output_type": "execute_result"
    }
   ],
   "source": [
    "breast_cancer_df.calcification.value_counts()"
   ]
  },
  {
   "cell_type": "code",
   "execution_count": 14,
   "id": "728f83c7",
   "metadata": {},
   "outputs": [],
   "source": [
    "# Replace all accorence of p with P\n",
    "breast_cancer_df['calcification'] = breast_cancer_df['calcification'].replace('p', 'P')"
   ]
  },
  {
   "cell_type": "code",
   "execution_count": 15,
   "id": "17063525",
   "metadata": {},
   "outputs": [
    {
     "data": {
      "text/plain": [
       "P    247\n",
       "N    244\n",
       "Name: calcification, dtype: int64"
      ]
     },
     "execution_count": 15,
     "metadata": {},
     "output_type": "execute_result"
    }
   ],
   "source": [
    "# Confirm Replacement \n",
    "breast_cancer_df.calcification.value_counts()"
   ]
  },
  {
   "cell_type": "code",
   "execution_count": 16,
   "id": "c3ee7bf4",
   "metadata": {},
   "outputs": [
    {
     "data": {
      "text/plain": [
       "array(['II', 'III', 'I', 'I-II', 'IIII', '2l3', '1l3'], dtype=object)"
      ]
     },
     "execution_count": 16,
     "metadata": {},
     "output_type": "execute_result"
    }
   ],
   "source": [
    "breast_cancer_df.grade.unique()"
   ]
  },
  {
   "cell_type": "code",
   "execution_count": 17,
   "id": "df5639d6",
   "metadata": {},
   "outputs": [],
   "source": [
    "# Correct invalid cancer grade\n",
    "breast_cancer_df['grade'] = breast_cancer_df['grade'].replace('I-II', 'III').replace('2l3', 'III').replace('1l3', 'III').replace('IIII', 'III')\n"
   ]
  },
  {
   "cell_type": "code",
   "execution_count": 18,
   "id": "7f857a27",
   "metadata": {},
   "outputs": [
    {
     "name": "stdout",
     "output_type": "stream",
     "text": [
      "<class 'pandas.core.frame.DataFrame'>\n",
      "RangeIndex: 521 entries, 0 to 520\n",
      "Data columns (total 15 columns):\n",
      " #   Column          Non-Null Count  Dtype  \n",
      "---  ------          --------------  -----  \n",
      " 0   age             520 non-null    float64\n",
      " 1   breast_density  495 non-null    object \n",
      " 2   birads          521 non-null    object \n",
      " 3   us              521 non-null    object \n",
      " 4   calcification   491 non-null    object \n",
      " 5   c_type          493 non-null    object \n",
      " 6   stage           521 non-null    object \n",
      " 7   stages_(list)   521 non-null    object \n",
      " 8   grade           521 non-null    object \n",
      " 9   markers         521 non-null    object \n",
      " 10  size_us_(list)  521 non-null    object \n",
      " 11  size_surgry     521 non-null    object \n",
      " 12  ln              521 non-null    object \n",
      " 13  l_ctomy         521 non-null    object \n",
      " 14  m_tomy          521 non-null    object \n",
      "dtypes: float64(1), object(14)\n",
      "memory usage: 61.2+ KB\n"
     ]
    }
   ],
   "source": [
    "# confirm that the column labels has been fixed\n",
    "breast_cancer_df.info()"
   ]
  },
  {
   "cell_type": "code",
   "execution_count": 19,
   "id": "a485dfe3",
   "metadata": {},
   "outputs": [
    {
     "data": {
      "text/plain": [
       "'\\nColumns that are not needed will be dropped, \\nas some columns deal with surgry or perhaps really not relevant to the analysis.\\nColumns to be dropped are: markers, size_us_(list), size_surgry, ln, l_ctomy, m_tomy\\n'"
      ]
     },
     "execution_count": 19,
     "metadata": {},
     "output_type": "execute_result"
    }
   ],
   "source": [
    "\"\"\"\n",
    "Columns that are not needed will be dropped, \n",
    "as some columns deal with surgry or perhaps really not relevant to the analysis.\n",
    "Columns to be dropped are: markers, size_us_(list), size_surgry, ln, l_ctomy, m_tomy\n",
    "\"\"\" \n",
    "\n",
    "                       \n",
    "# breast_cancer_df.drop(['markers', 'stages_(list)'], axis=1, inplace=True)\n",
    "                       "
   ]
  },
  {
   "cell_type": "code",
   "execution_count": 20,
   "id": "37b861ed",
   "metadata": {},
   "outputs": [
    {
     "data": {
      "text/plain": [
       "85"
      ]
     },
     "execution_count": 20,
     "metadata": {},
     "output_type": "execute_result"
    }
   ],
   "source": [
    "sum(breast_cancer_df.isnull().sum())"
   ]
  },
  {
   "cell_type": "code",
   "execution_count": null,
   "id": "9de79200",
   "metadata": {},
   "outputs": [],
   "source": []
  },
  {
   "cell_type": "code",
   "execution_count": 21,
   "id": "90a77e93",
   "metadata": {},
   "outputs": [],
   "source": [
    "# Rename c_type with type\n",
    "breast_cancer_df.rename(columns = {'c_type':'type', 'm_tomy':'mastectomy','l_ctomy':'lumpectomy','size_us_(list)':'ultrasound_size', 'size_surgry':'surgry_size', 'ln':'lymph_node', 'us':'ultrasound' }, inplace = True)"
   ]
  },
  {
   "cell_type": "code",
   "execution_count": 22,
   "id": "10aba269",
   "metadata": {},
   "outputs": [
    {
     "data": {
      "text/plain": [
       "age                 1\n",
       "breast_density     26\n",
       "birads              0\n",
       "ultrasound          0\n",
       "calcification      30\n",
       "type               28\n",
       "stage               0\n",
       "stages_(list)       0\n",
       "grade               0\n",
       "markers             0\n",
       "ultrasound_size     0\n",
       "surgry_size         0\n",
       "lymph_node          0\n",
       "lumpectomy          0\n",
       "mastectomy          0\n",
       "dtype: int64"
      ]
     },
     "execution_count": 22,
     "metadata": {},
     "output_type": "execute_result"
    }
   ],
   "source": [
    "# Chack for NULL values \n",
    "breast_cancer_df.isnull().sum()"
   ]
  },
  {
   "cell_type": "code",
   "execution_count": 23,
   "id": "d2f25d58",
   "metadata": {},
   "outputs": [],
   "source": [
    "# Drop all NULL values \n",
    "breast_cancer_df.dropna(subset = ['age', 'breast_density', 'calcification', 'type'], inplace=True)"
   ]
  },
  {
   "cell_type": "code",
   "execution_count": 24,
   "id": "ab46dc79",
   "metadata": {},
   "outputs": [
    {
     "data": {
      "text/plain": [
       "age                0\n",
       "breast_density     0\n",
       "birads             0\n",
       "ultrasound         0\n",
       "calcification      0\n",
       "type               0\n",
       "stage              0\n",
       "stages_(list)      0\n",
       "grade              0\n",
       "markers            0\n",
       "ultrasound_size    0\n",
       "surgry_size        0\n",
       "lymph_node         0\n",
       "lumpectomy         0\n",
       "mastectomy         0\n",
       "dtype: int64"
      ]
     },
     "execution_count": 24,
     "metadata": {},
     "output_type": "execute_result"
    }
   ],
   "source": [
    "# Confirm all NULL values has been dropped\n",
    "breast_cancer_df.isnull().sum()"
   ]
  },
  {
   "cell_type": "code",
   "execution_count": 25,
   "id": "bc1c0b0e",
   "metadata": {},
   "outputs": [],
   "source": [
    "# Convert age datatype from float to int\n",
    "breast_cancer_df['age'] = breast_cancer_df['age'].astype(int)"
   ]
  },
  {
   "cell_type": "code",
   "execution_count": 26,
   "id": "51a639fa",
   "metadata": {},
   "outputs": [
    {
     "data": {
      "text/plain": [
       "II     281\n",
       "III    136\n",
       "I       37\n",
       "Name: grade, dtype: int64"
      ]
     },
     "execution_count": 26,
     "metadata": {},
     "output_type": "execute_result"
    }
   ],
   "source": [
    "breast_cancer_df.grade.value_counts()"
   ]
  },
  {
   "cell_type": "code",
   "execution_count": 27,
   "id": "c55ca233",
   "metadata": {},
   "outputs": [],
   "source": [
    "# Make a copy of the cleaned data\n",
    "breast_cancer_df_clean = breast_cancer_df.copy()"
   ]
  },
  {
   "cell_type": "code",
   "execution_count": 28,
   "id": "8d27bf10",
   "metadata": {},
   "outputs": [
    {
     "data": {
      "text/html": [
       "<div>\n",
       "<style scoped>\n",
       "    .dataframe tbody tr th:only-of-type {\n",
       "        vertical-align: middle;\n",
       "    }\n",
       "\n",
       "    .dataframe tbody tr th {\n",
       "        vertical-align: top;\n",
       "    }\n",
       "\n",
       "    .dataframe thead th {\n",
       "        text-align: right;\n",
       "    }\n",
       "</style>\n",
       "<table border=\"1\" class=\"dataframe\">\n",
       "  <thead>\n",
       "    <tr style=\"text-align: right;\">\n",
       "      <th></th>\n",
       "      <th>age</th>\n",
       "      <th>breast_density</th>\n",
       "      <th>birads</th>\n",
       "      <th>ultrasound</th>\n",
       "      <th>calcification</th>\n",
       "      <th>type</th>\n",
       "      <th>stage</th>\n",
       "      <th>stages_(list)</th>\n",
       "      <th>grade</th>\n",
       "      <th>markers</th>\n",
       "      <th>ultrasound_size</th>\n",
       "      <th>surgry_size</th>\n",
       "      <th>lymph_node</th>\n",
       "      <th>lumpectomy</th>\n",
       "      <th>mastectomy</th>\n",
       "    </tr>\n",
       "  </thead>\n",
       "  <tbody>\n",
       "    <tr>\n",
       "      <th>120</th>\n",
       "      <td>60</td>\n",
       "      <td>A</td>\n",
       "      <td>0</td>\n",
       "      <td>IV</td>\n",
       "      <td>P</td>\n",
       "      <td>IDC+DCIS</td>\n",
       "      <td>T1N0M0</td>\n",
       "      <td>1</td>\n",
       "      <td>III</td>\n",
       "      <td>ER-PR-H+</td>\n",
       "      <td>More Than 10 Less OR Equal 20 MM</td>\n",
       "      <td>17MM</td>\n",
       "      <td>0l1</td>\n",
       "      <td>LP</td>\n",
       "      <td>MRM</td>\n",
       "    </tr>\n",
       "    <tr>\n",
       "      <th>267</th>\n",
       "      <td>41</td>\n",
       "      <td>B</td>\n",
       "      <td>V</td>\n",
       "      <td>V</td>\n",
       "      <td>P</td>\n",
       "      <td>IDC</td>\n",
       "      <td>T3N1M0</td>\n",
       "      <td>3A</td>\n",
       "      <td>III</td>\n",
       "      <td>ER+PR-H-</td>\n",
       "      <td>More Than  20 &amp; Less  OR Equal 50 MM</td>\n",
       "      <td>15MM</td>\n",
       "      <td>0l1</td>\n",
       "      <td>LP</td>\n",
       "      <td>MRM</td>\n",
       "    </tr>\n",
       "    <tr>\n",
       "      <th>193</th>\n",
       "      <td>42</td>\n",
       "      <td>D</td>\n",
       "      <td>V</td>\n",
       "      <td>V</td>\n",
       "      <td>P</td>\n",
       "      <td>IDC+DCIS</td>\n",
       "      <td>T3N0M0</td>\n",
       "      <td>2B</td>\n",
       "      <td>II</td>\n",
       "      <td>ER+PR+H-</td>\n",
       "      <td>More Than  20 &amp; Less  OR Equal 50 MM</td>\n",
       "      <td>23MM</td>\n",
       "      <td>1l17</td>\n",
       "      <td>LP</td>\n",
       "      <td>MRM</td>\n",
       "    </tr>\n",
       "    <tr>\n",
       "      <th>78</th>\n",
       "      <td>63</td>\n",
       "      <td>A</td>\n",
       "      <td>0</td>\n",
       "      <td>V</td>\n",
       "      <td>P</td>\n",
       "      <td>DCIS</td>\n",
       "      <td>TisN0M0</td>\n",
       "      <td>0</td>\n",
       "      <td>II</td>\n",
       "      <td>ER+PR+H-</td>\n",
       "      <td>More Than  20 &amp; Less  OR Equal 50 MM</td>\n",
       "      <td>15MM</td>\n",
       "      <td>0l1</td>\n",
       "      <td>LP</td>\n",
       "      <td>MRM</td>\n",
       "    </tr>\n",
       "    <tr>\n",
       "      <th>516</th>\n",
       "      <td>44</td>\n",
       "      <td>A</td>\n",
       "      <td>0</td>\n",
       "      <td>IV</td>\n",
       "      <td>P</td>\n",
       "      <td>DCIS</td>\n",
       "      <td>T1N0M0</td>\n",
       "      <td>0</td>\n",
       "      <td>II</td>\n",
       "      <td>ER+PR+</td>\n",
       "      <td>More Than 5 LESS OR EQUAL 10 MM</td>\n",
       "      <td>15MM</td>\n",
       "      <td>0l1</td>\n",
       "      <td>LP</td>\n",
       "      <td>MRM</td>\n",
       "    </tr>\n",
       "    <tr>\n",
       "      <th>179</th>\n",
       "      <td>54</td>\n",
       "      <td>C</td>\n",
       "      <td>V</td>\n",
       "      <td>V</td>\n",
       "      <td>N</td>\n",
       "      <td>IDC+DCIS</td>\n",
       "      <td>T2N1M0</td>\n",
       "      <td>2B</td>\n",
       "      <td>II</td>\n",
       "      <td>ER+PR+H-</td>\n",
       "      <td>More Than  20 &amp; Less  OR Equal 50 MM</td>\n",
       "      <td>35MM</td>\n",
       "      <td>3l13</td>\n",
       "      <td>LP</td>\n",
       "      <td>MRM</td>\n",
       "    </tr>\n",
       "    <tr>\n",
       "      <th>434</th>\n",
       "      <td>53</td>\n",
       "      <td>B</td>\n",
       "      <td>0</td>\n",
       "      <td>IV</td>\n",
       "      <td>P</td>\n",
       "      <td>DCIS</td>\n",
       "      <td>T1N0M0</td>\n",
       "      <td>0</td>\n",
       "      <td>II</td>\n",
       "      <td>ER+PR+H-</td>\n",
       "      <td>More Than  20 &amp; Less  OR Equal 50 MM</td>\n",
       "      <td>15MM</td>\n",
       "      <td>0l1</td>\n",
       "      <td>LP</td>\n",
       "      <td>MRM</td>\n",
       "    </tr>\n",
       "    <tr>\n",
       "      <th>112</th>\n",
       "      <td>73</td>\n",
       "      <td>A</td>\n",
       "      <td>V</td>\n",
       "      <td>V</td>\n",
       "      <td>P</td>\n",
       "      <td>IDC+DCIS</td>\n",
       "      <td>T1N1M0</td>\n",
       "      <td>2A</td>\n",
       "      <td>II</td>\n",
       "      <td>ER+PR+H-</td>\n",
       "      <td>More Than  20 &amp; Less  OR Equal 50 MM</td>\n",
       "      <td>20MM</td>\n",
       "      <td>3l18</td>\n",
       "      <td>LP</td>\n",
       "      <td>MRM</td>\n",
       "    </tr>\n",
       "    <tr>\n",
       "      <th>359</th>\n",
       "      <td>48</td>\n",
       "      <td>B</td>\n",
       "      <td>0</td>\n",
       "      <td>V</td>\n",
       "      <td>N</td>\n",
       "      <td>IDC</td>\n",
       "      <td>T1N1M0</td>\n",
       "      <td>2A</td>\n",
       "      <td>II</td>\n",
       "      <td>ER+PR+H-</td>\n",
       "      <td>More Than 10 Less OR Equal 20 MM</td>\n",
       "      <td>15MM</td>\n",
       "      <td>3l8</td>\n",
       "      <td>LP</td>\n",
       "      <td>MRM</td>\n",
       "    </tr>\n",
       "    <tr>\n",
       "      <th>140</th>\n",
       "      <td>53</td>\n",
       "      <td>C</td>\n",
       "      <td>0</td>\n",
       "      <td>IV</td>\n",
       "      <td>N</td>\n",
       "      <td>IDC</td>\n",
       "      <td>T1N0M0</td>\n",
       "      <td>0</td>\n",
       "      <td>III</td>\n",
       "      <td>ER-PR+H+</td>\n",
       "      <td>More Than 10 Less OR Equal 20 MM</td>\n",
       "      <td>15MM</td>\n",
       "      <td>0l1</td>\n",
       "      <td>LP</td>\n",
       "      <td>MRM</td>\n",
       "    </tr>\n",
       "  </tbody>\n",
       "</table>\n",
       "</div>"
      ],
      "text/plain": [
       "     age breast_density birads ultrasound calcification      type    stage  \\\n",
       "120   60              A      0         IV             P  IDC+DCIS   T1N0M0   \n",
       "267   41              B      V          V             P       IDC   T3N1M0   \n",
       "193   42              D      V          V             P  IDC+DCIS   T3N0M0   \n",
       "78    63              A      0          V             P      DCIS  TisN0M0   \n",
       "516   44              A      0         IV             P      DCIS   T1N0M0   \n",
       "179   54              C      V          V             N  IDC+DCIS   T2N1M0   \n",
       "434   53              B      0         IV             P      DCIS   T1N0M0   \n",
       "112   73              A      V          V             P  IDC+DCIS   T1N1M0   \n",
       "359   48              B      0          V             N       IDC   T1N1M0   \n",
       "140   53              C      0         IV             N       IDC   T1N0M0   \n",
       "\n",
       "    stages_(list) grade   markers                       ultrasound_size  \\\n",
       "120             1   III  ER-PR-H+      More Than 10 Less OR Equal 20 MM   \n",
       "267            3A   III  ER+PR-H-  More Than  20 & Less  OR Equal 50 MM   \n",
       "193            2B    II  ER+PR+H-  More Than  20 & Less  OR Equal 50 MM   \n",
       "78              0    II  ER+PR+H-  More Than  20 & Less  OR Equal 50 MM   \n",
       "516             0    II    ER+PR+       More Than 5 LESS OR EQUAL 10 MM   \n",
       "179            2B    II  ER+PR+H-  More Than  20 & Less  OR Equal 50 MM   \n",
       "434             0    II  ER+PR+H-  More Than  20 & Less  OR Equal 50 MM   \n",
       "112            2A    II  ER+PR+H-  More Than  20 & Less  OR Equal 50 MM   \n",
       "359            2A    II  ER+PR+H-      More Than 10 Less OR Equal 20 MM   \n",
       "140             0   III  ER-PR+H+      More Than 10 Less OR Equal 20 MM   \n",
       "\n",
       "    surgry_size lymph_node lumpectomy mastectomy  \n",
       "120        17MM        0l1         LP        MRM  \n",
       "267        15MM        0l1         LP        MRM  \n",
       "193        23MM       1l17         LP        MRM  \n",
       "78         15MM        0l1         LP        MRM  \n",
       "516        15MM        0l1         LP        MRM  \n",
       "179        35MM       3l13         LP        MRM  \n",
       "434        15MM        0l1         LP        MRM  \n",
       "112        20MM       3l18         LP        MRM  \n",
       "359        15MM        3l8         LP        MRM  \n",
       "140        15MM        0l1         LP        MRM  "
      ]
     },
     "execution_count": 28,
     "metadata": {},
     "output_type": "execute_result"
    }
   ],
   "source": [
    "# Randomly preveiew the data\n",
    "breast_cancer_df_clean.sample(10)"
   ]
  },
  {
   "cell_type": "code",
   "execution_count": 29,
   "id": "87e48f4a",
   "metadata": {},
   "outputs": [
    {
     "name": "stdout",
     "output_type": "stream",
     "text": [
      "<class 'pandas.core.frame.DataFrame'>\n",
      "Int64Index: 454 entries, 0 to 520\n",
      "Data columns (total 15 columns):\n",
      " #   Column           Non-Null Count  Dtype \n",
      "---  ------           --------------  ----- \n",
      " 0   age              454 non-null    int64 \n",
      " 1   breast_density   454 non-null    object\n",
      " 2   birads           454 non-null    object\n",
      " 3   ultrasound       454 non-null    object\n",
      " 4   calcification    454 non-null    object\n",
      " 5   type             454 non-null    object\n",
      " 6   stage            454 non-null    object\n",
      " 7   stages_(list)    454 non-null    object\n",
      " 8   grade            454 non-null    object\n",
      " 9   markers          454 non-null    object\n",
      " 10  ultrasound_size  454 non-null    object\n",
      " 11  surgry_size      454 non-null    object\n",
      " 12  lymph_node       454 non-null    object\n",
      " 13  lumpectomy       454 non-null    object\n",
      " 14  mastectomy       454 non-null    object\n",
      "dtypes: int64(1), object(14)\n",
      "memory usage: 56.8+ KB\n"
     ]
    }
   ],
   "source": [
    "breast_cancer_df_clean.info()"
   ]
  },
  {
   "cell_type": "markdown",
   "id": "7bf33d67",
   "metadata": {},
   "source": [
    "## Data Visualisation "
   ]
  },
  {
   "cell_type": "code",
   "execution_count": 30,
   "id": "7614ab69",
   "metadata": {},
   "outputs": [],
   "source": [
    "# Function for variables distribution\n",
    "def distribution_plot(dataframe, column_name,bins_base):\n",
    "    column_name_counts = dataframe[column_name].value_counts()\n",
    "    plot=plt.hist(data=dataframe,x=column_name,bins=bins_base)\n",
    "    return(plot)\n",
    "\n",
    "# Function to plot virtical bar\n",
    "def count_plot(dataframe,column_name, xlabel=\"\", ylabel=\"\"):\n",
    "    base_color=sb.color_palette()[0]\n",
    "    column_name_count=dataframe[column_name].value_counts()\n",
    "    plot=sb.countplot(data=dataframe,x=column_name,color=base_color,order=column_name_count.index);\n",
    "    return(plot)\n",
    "\n",
    "# Function to plot horizontal bar\n",
    "def count_plot_horizontal(dataframe,column_name, xlabel=\"\", ylabel=\"\"):\n",
    "    base_color=sb.color_palette()[0]\n",
    "    column_name_count=dataframe[column_name].value_counts()\n",
    "    plot=sb.countplot(data=dataframe,y=column_name,color=base_color,order=column_name_count.index);\n",
    "    return(plot)\n"
   ]
  },
  {
   "cell_type": "markdown",
   "id": "7842bd87",
   "metadata": {},
   "source": [
    "**Age Distribution of The Patients**"
   ]
  },
  {
   "cell_type": "code",
   "execution_count": 31,
   "id": "75d1b1f7",
   "metadata": {},
   "outputs": [
    {
     "data": {
      "image/png": "[encoded data removed]",
      "text/plain": [
       "<Figure size 640x480 with 1 Axes>"
      ]
     },
     "metadata": {},
     "output_type": "display_data"
    }
   ],
   "source": [
    "#  age distribution \n",
    "bins_base = np.arange(0, breast_cancer_df_clean['age'].max(), 10)\n",
    "distribution_plot(breast_cancer_df_clean,'age', bins_base)\n",
    "\n",
    "plt.title(\"Age Distribution of The Patients \")\n",
    "plt.xlabel(\"Age (Year)\")\n",
    "plt.ylabel(\"Counts\")\n",
    "plt.xticks(np.arange(0, breast_cancer_df_clean['age'].max()+10, 10));"
   ]
  },
  {
   "cell_type": "markdown",
   "id": "e1dbf411",
   "metadata": {},
   "source": [
    "The age dsitribution of the patients appears to be almost a normal distribution, with majorrity of the patients beign `50 years old`. This also revealed that, breast cancer rarely affect patient less than 30 years old. "
   ]
  },
  {
   "cell_type": "code",
   "execution_count": 32,
   "id": "68501c12",
   "metadata": {},
   "outputs": [
    {
     "data": {
      "image/png": "[encoded data removed]",
      "text/plain": [
       "<Figure size 640x480 with 1 Axes>"
      ]
     },
     "metadata": {},
     "output_type": "display_data"
    }
   ],
   "source": [
    "# Function to plot horizontal bar for the top age distribution. \n",
    "def plot_bar_cahrt():\n",
    "    base_color=sb.color_palette()[0]\n",
    "    base_order = breast_cancer_df_clean.value_counts().index\n",
    "    breast_cancer_df_clean.age.value_counts().head(40).plot(kind='bar');\n",
    "    plt.title(\"Top Ages of The Patients\", fontsize=12)\n",
    "    plt.ylabel(\"Count\", fontsize=12)\n",
    "    plt.xlabel(\"Age (Year)\", fontsize=12)\n",
    "    for spine in plt.gca().spines.values():\n",
    "        spine.set_visible(False)\n",
    "\n",
    "plot_bar_cahrt()     "
   ]
  },
  {
   "cell_type": "markdown",
   "id": "9628adfb",
   "metadata": {},
   "source": [
    "In conformity with age distribution, the above bar shows that the majority of the patients still remains between the age of 50 and 60 years old."
   ]
  },
  {
   "cell_type": "markdown",
   "id": "82f526cb",
   "metadata": {},
   "source": [
    "**Distribution of Cancer Stage**"
   ]
  },
  {
   "cell_type": "code",
   "execution_count": 33,
   "id": "65bab09e",
   "metadata": {},
   "outputs": [
    {
     "data": {
      "text/plain": [
       "T1N0M0    36.56\n",
       "T2N0M0    13.66\n",
       "T2N1M0    11.45\n",
       "T3N1M0     9.47\n",
       "T3N0M0     7.27\n",
       "T1N1M0     3.96\n",
       "T4N1M0     2.86\n",
       "T0N0M0     1.98\n",
       "T2N2M0     1.76\n",
       "T2N1M1     1.32\n",
       "Name: stage, dtype: float64"
      ]
     },
     "execution_count": 33,
     "metadata": {},
     "output_type": "execute_result"
    }
   ],
   "source": [
    "# Percentage distribution of cancer stage\n",
    "(breast_cancer_df_clean.stage.value_counts().head(10)/breast_cancer_df_clean.shape[0] * 100).round(2)"
   ]
  },
  {
   "cell_type": "code",
   "execution_count": 34,
   "id": "7be66367",
   "metadata": {},
   "outputs": [
    {
     "data": {
      "image/png": "[encoded data removed]",
      "text/plain": [
       "<Figure size 1200x800 with 1 Axes>"
      ]
     },
     "metadata": {},
     "output_type": "display_data"
    }
   ],
   "source": [
    "plt.figure(figsize=(12,8)) \n",
    "#  Call the `count_plot_horizontal` function\n",
    "count_plot_horizontal(breast_cancer_df_clean, 'stage')\n",
    "plt.title (\"Distribution of Cancer Stage\")\n",
    "plt.ylabel(\"Cancer stage\")\n",
    "plt.xlabel(\"Frequency\")\n",
    "\n",
    "for spine in plt.gca().spines.values():\n",
    "    spine.set_visible(False)\n"
   ]
  },
  {
   "cell_type": "markdown",
   "id": "f85beaf4",
   "metadata": {},
   "source": [
    "It can be observed that `T1N0M0` is the major cancer stage exhibit by the patients with `36.56%`, followed by `T2N0M0`  and `T2N1M0` with `13.66%` and `11.45%` respectively."
   ]
  },
  {
   "cell_type": "markdown",
   "id": "3d60357e",
   "metadata": {},
   "source": [
    "**Distribution of Cancer Grade**"
   ]
  },
  {
   "cell_type": "code",
   "execution_count": 35,
   "id": "13ba805f",
   "metadata": {},
   "outputs": [
    {
     "data": {
      "image/png": "[encoded data removed]",
      "text/plain": [
       "<Figure size 700x500 with 1 Axes>"
      ]
     },
     "metadata": {},
     "output_type": "display_data"
    }
   ],
   "source": [
    "base_color = sb.color_palette()[0]\n",
    "plt.figure(figsize=(7,5)) \n",
    "ax = sb.countplot(data=breast_cancer_df_clean, x='grade', color=base_color);\n",
    "\n",
    "pct = []\n",
    "for i in ax.patches:\n",
    "    pct.append(i.get_height())\n",
    "    \n",
    "percentage_sum = sum(pct)\n",
    "for i in ax.patches:\n",
    "    val = i.get_height()\n",
    "    \n",
    "# Calculate the percentage for each bar\n",
    "    percentage = (val/percentage_sum) * 100\n",
    "    ax.text(i.get_x() + i.get_width()/2., val + 1, f'{percentage:.2f}%', ha='center')\n",
    "    \n",
    "for spine in plt.gca().spines.values():\n",
    "    spine.set_visible(False)\n",
    "\n",
    "plt.title(\"Distribution of Cancer Grade\")\n",
    "plt.xlabel('Cancer Grade')\n",
    "plt.ylabel('Count')\n",
    "\n",
    "plt.show()         "
   ]
  },
  {
   "cell_type": "markdown",
   "id": "d371183c",
   "metadata": {},
   "source": [
    "Cancer grade `II` appears to be the major breast cancer grade with `61.89%`, follwoed by cancer grade `III` with `29.96%`, and cancer grade `I` with `8.15%`."
   ]
  },
  {
   "cell_type": "code",
   "execution_count": 36,
   "id": "a62ebb80",
   "metadata": {
    "scrolled": true
   },
   "outputs": [
    {
     "data": {
      "image/png": "[encoded data removed]",
      "text/plain": [
       "<Figure size 700x500 with 1 Axes>"
      ]
     },
     "metadata": {},
     "output_type": "display_data"
    }
   ],
   "source": [
    "base_color = sb.color_palette()[0]\n",
    "base_order = breast_cancer_df_clean.birads.value_counts().index\n",
    "plt.figure(figsize=(7,5)) \n",
    "ax = sb.countplot(data=breast_cancer_df_clean, x='birads', color=base_color,order=base_order);\n",
    "\n",
    "pct = []\n",
    "for i in ax.patches:\n",
    "    pct.append(i.get_height())\n",
    "    \n",
    "percentage_sum = sum(pct)\n",
    "for i in ax.patches:\n",
    "    val = i.get_height()\n",
    "    \n",
    "# Calculate the percentage for each bar\n",
    "    percentage = (val/percentage_sum) * 100\n",
    "    ax.text(i.get_x() + i.get_width()/2., val + 1, f'{percentage:.2f}%', ha='center')\n",
    "    \n",
    "for spine in plt.gca().spines.values():\n",
    "    spine.set_visible(False)\n",
    "\n",
    "plt.title(\"Distribution of Breast Imaging Reporting and Data System (BIRADS)\")\n",
    "plt.xlabel('BIRASD Category')\n",
    "plt.ylabel('Count')\n",
    "\n",
    "plt.show()  "
   ]
  },
  {
   "cell_type": "markdown",
   "id": "24dc9991",
   "metadata": {},
   "source": [
    "The above chart depicts that `53.30%` of the patients  falls in BIRAD category `0`, this impleis imcomplete test, that is, additional imaging evaluation and/or comparison to prior mammograms (or other imaging tests) is needed. Wheile, `42.73%` of the patients falls in BIRAD category `V`. \n"
   ]
  },
  {
   "cell_type": "markdown",
   "id": "65d9fd5a",
   "metadata": {},
   "source": [
    "**Distribution of cancer type**"
   ]
  },
  {
   "cell_type": "code",
   "execution_count": 37,
   "id": "5b7b62e5",
   "metadata": {},
   "outputs": [
    {
     "data": {
      "image/png": "[encoded data removed]",
      "text/plain": [
       "<Figure size 700x500 with 1 Axes>"
      ]
     },
     "metadata": {},
     "output_type": "display_data"
    }
   ],
   "source": [
    "base_color = sb.color_palette()[0]\n",
    "plt.figure(figsize=(7,5)) \n",
    "ax =  breast_cancer_df_clean.type.value_counts().head(5).plot(kind='bar');\n",
    "# ax = sb.countplot(data=breast_cancer_df_clean, x='type', color=base_color);\n",
    "\n",
    "pct = []\n",
    "for i in ax.patches:\n",
    "    pct.append(i.get_height())\n",
    "    \n",
    "percentage_sum = sum(pct)\n",
    "for i in ax.patches:\n",
    "    val = i.get_height()\n",
    "    \n",
    "# Calculate the percentage for each bar\n",
    "    percentage = (val/percentage_sum) * 100\n",
    "    ax.text(i.get_x() + i.get_width()/2., val + 1, f'{percentage:.2f}%', ha='center', fontsize=10)\n",
    "    \n",
    "for spine in plt.gca().spines.values():\n",
    "    spine.set_visible(False)\n",
    "\n",
    "plt.title(\"Distribution of Breast Cancer Type\")\n",
    "plt.xlabel('Cancer Type')\n",
    "plt.ylabel('Count')\n",
    "\n",
    "plt.show()  "
   ]
  },
  {
   "cell_type": "markdown",
   "id": "390e6f50",
   "metadata": {},
   "source": [
    "**Correlation among all the variables**\n",
    "> Because majority of the variables are categorical data, there would be need to convert them to numerical data."
   ]
  },
  {
   "cell_type": "code",
   "execution_count": 38,
   "id": "724483fb",
   "metadata": {},
   "outputs": [],
   "source": [
    "# Convert features to categorical datatype\n",
    "breast_cancer_df_clean['type']=breast_cancer_df_clean['type'].astype('category').cat.codes\n",
    "breast_cancer_df_clean['stage']=breast_cancer_df_clean['stage'].astype('category').cat.codes\n",
    "breast_cancer_df_clean['breast_density']=breast_cancer_df_clean['breast_density'].astype('category').cat.codes\n",
    "breast_cancer_df_clean['birads']=breast_cancer_df_clean['birads'].astype('category').cat.codes\n",
    "breast_cancer_df_clean['grade']=breast_cancer_df_clean['grade'].astype('category').cat.codes\n",
    "breast_cancer_df_clean['calcification']=breast_cancer_df_clean['calcification'].astype('category').cat.codes\n",
    "breast_cancer_df_clean['ultrasound']=breast_cancer_df_clean['ultrasound'].astype('category').cat.codes\n"
   ]
  },
  {
   "cell_type": "code",
   "execution_count": 39,
   "id": "4cdbad89",
   "metadata": {
    "scrolled": true
   },
   "outputs": [
    {
     "data": {
      "text/html": [
       "<div>\n",
       "<style scoped>\n",
       "    .dataframe tbody tr th:only-of-type {\n",
       "        vertical-align: middle;\n",
       "    }\n",
       "\n",
       "    .dataframe tbody tr th {\n",
       "        vertical-align: top;\n",
       "    }\n",
       "\n",
       "    .dataframe thead th {\n",
       "        text-align: right;\n",
       "    }\n",
       "</style>\n",
       "<table border=\"1\" class=\"dataframe\">\n",
       "  <thead>\n",
       "    <tr style=\"text-align: right;\">\n",
       "      <th></th>\n",
       "      <th>age</th>\n",
       "      <th>breast_density</th>\n",
       "      <th>birads</th>\n",
       "      <th>ultrasound</th>\n",
       "      <th>calcification</th>\n",
       "      <th>type</th>\n",
       "      <th>stage</th>\n",
       "      <th>grade</th>\n",
       "    </tr>\n",
       "  </thead>\n",
       "  <tbody>\n",
       "    <tr>\n",
       "      <th>age</th>\n",
       "      <td>1.000000</td>\n",
       "      <td>-0.211828</td>\n",
       "      <td>0.031027</td>\n",
       "      <td>0.011674</td>\n",
       "      <td>-0.092027</td>\n",
       "      <td>0.075283</td>\n",
       "      <td>-0.035943</td>\n",
       "      <td>-0.175667</td>\n",
       "    </tr>\n",
       "    <tr>\n",
       "      <th>breast_density</th>\n",
       "      <td>-0.211828</td>\n",
       "      <td>1.000000</td>\n",
       "      <td>0.046817</td>\n",
       "      <td>0.044177</td>\n",
       "      <td>0.015915</td>\n",
       "      <td>0.052856</td>\n",
       "      <td>0.113375</td>\n",
       "      <td>0.013815</td>\n",
       "    </tr>\n",
       "    <tr>\n",
       "      <th>birads</th>\n",
       "      <td>0.031027</td>\n",
       "      <td>0.046817</td>\n",
       "      <td>1.000000</td>\n",
       "      <td>0.246886</td>\n",
       "      <td>0.110918</td>\n",
       "      <td>0.037890</td>\n",
       "      <td>0.171003</td>\n",
       "      <td>0.074637</td>\n",
       "    </tr>\n",
       "    <tr>\n",
       "      <th>ultrasound</th>\n",
       "      <td>0.011674</td>\n",
       "      <td>0.044177</td>\n",
       "      <td>0.246886</td>\n",
       "      <td>1.000000</td>\n",
       "      <td>0.013190</td>\n",
       "      <td>0.112405</td>\n",
       "      <td>0.118579</td>\n",
       "      <td>0.020352</td>\n",
       "    </tr>\n",
       "    <tr>\n",
       "      <th>calcification</th>\n",
       "      <td>-0.092027</td>\n",
       "      <td>0.015915</td>\n",
       "      <td>0.110918</td>\n",
       "      <td>0.013190</td>\n",
       "      <td>1.000000</td>\n",
       "      <td>-0.205844</td>\n",
       "      <td>-0.029551</td>\n",
       "      <td>-0.058195</td>\n",
       "    </tr>\n",
       "    <tr>\n",
       "      <th>type</th>\n",
       "      <td>0.075283</td>\n",
       "      <td>0.052856</td>\n",
       "      <td>0.037890</td>\n",
       "      <td>0.112405</td>\n",
       "      <td>-0.205844</td>\n",
       "      <td>1.000000</td>\n",
       "      <td>0.169909</td>\n",
       "      <td>-0.036214</td>\n",
       "    </tr>\n",
       "    <tr>\n",
       "      <th>stage</th>\n",
       "      <td>-0.035943</td>\n",
       "      <td>0.113375</td>\n",
       "      <td>0.171003</td>\n",
       "      <td>0.118579</td>\n",
       "      <td>-0.029551</td>\n",
       "      <td>0.169909</td>\n",
       "      <td>1.000000</td>\n",
       "      <td>0.191466</td>\n",
       "    </tr>\n",
       "    <tr>\n",
       "      <th>grade</th>\n",
       "      <td>-0.175667</td>\n",
       "      <td>0.013815</td>\n",
       "      <td>0.074637</td>\n",
       "      <td>0.020352</td>\n",
       "      <td>-0.058195</td>\n",
       "      <td>-0.036214</td>\n",
       "      <td>0.191466</td>\n",
       "      <td>1.000000</td>\n",
       "    </tr>\n",
       "  </tbody>\n",
       "</table>\n",
       "</div>"
      ],
      "text/plain": [
       "                     age  breast_density    birads  ultrasound  calcification  \\\n",
       "age             1.000000       -0.211828  0.031027    0.011674      -0.092027   \n",
       "breast_density -0.211828        1.000000  0.046817    0.044177       0.015915   \n",
       "birads          0.031027        0.046817  1.000000    0.246886       0.110918   \n",
       "ultrasound      0.011674        0.044177  0.246886    1.000000       0.013190   \n",
       "calcification  -0.092027        0.015915  0.110918    0.013190       1.000000   \n",
       "type            0.075283        0.052856  0.037890    0.112405      -0.205844   \n",
       "stage          -0.035943        0.113375  0.171003    0.118579      -0.029551   \n",
       "grade          -0.175667        0.013815  0.074637    0.020352      -0.058195   \n",
       "\n",
       "                    type     stage     grade  \n",
       "age             0.075283 -0.035943 -0.175667  \n",
       "breast_density  0.052856  0.113375  0.013815  \n",
       "birads          0.037890  0.171003  0.074637  \n",
       "ultrasound      0.112405  0.118579  0.020352  \n",
       "calcification  -0.205844 -0.029551 -0.058195  \n",
       "type            1.000000  0.169909 -0.036214  \n",
       "stage           0.169909  1.000000  0.191466  \n",
       "grade          -0.036214  0.191466  1.000000  "
      ]
     },
     "execution_count": 39,
     "metadata": {},
     "output_type": "execute_result"
    }
   ],
   "source": [
    "# Correlation among the varibles.\n",
    "(breast_cancer_df_clean.corr())"
   ]
  },
  {
   "cell_type": "code",
   "execution_count": 40,
   "id": "9422f6c8",
   "metadata": {
    "scrolled": false
   },
   "outputs": [
    {
     "data": {
      "image/png": "[encoded data removed]",
      "text/plain": [
       "<Figure size 640x480 with 2 Axes>"
      ]
     },
     "metadata": {},
     "output_type": "display_data"
    }
   ],
   "source": [
    "# Visualize the correlation among the varibles.\n",
    "sb.heatmap(breast_cancer_df_clean.corr());"
   ]
  },
  {
   "cell_type": "markdown",
   "id": "87be2d45",
   "metadata": {},
   "source": [
    "Positive correlations can be observed between `grade` and `stage`, `birads` and `stage`, while nagative correlations can be observed between `age` and `grade`, `calcification` and `type` among others."
   ]
  },
  {
   "cell_type": "markdown",
   "id": "811fd31f",
   "metadata": {},
   "source": [
    "## KEY INSIGHTS\n",
    "After an In-depth analysis, the following insights were revealed by the data.\n",
    "> - Breast cancer rarely affect women below the age of 30.\n",
    "> - The most vulnerable age group of breast cancer is between 50 - 60 years old.\n",
    "> - Majority of the patients belong to the early-stage primary pulmonary adenocarcinoma (T1N0M0) cancer stage, which signifies the chances of the patients having an early breast cancer test.\n",
    "> - 61.89% of the patients fall under cancer grade II, while only 29.96% of them fall under cancer grade III, the 32% reduction of patients from cancer grade II to cancer grade III signifies a posible positive response to breast cancer treatments.\n",
    "> - There is a positive correlations between cancer grade and stage, birads and stage, while a  negative correlations were also observed between age and cancer stage, grade and breast density. "
   ]
  }
 ],
 "metadata": {
  "kernelspec": {
   "display_name": "Python 3 (ipykernel)",
   "language": "python",
   "name": "python3"
  },
  "language_info": {
   "codemirror_mode": {
    "name": "ipython",
    "version": 3
   },
   "file_extension": ".py",
   "mimetype": "text/x-python",
   "name": "python",
   "nbconvert_exporter": "python",
   "pygments_lexer": "ipython3",
   "version": "3.9.15"
  }
 },
 "nbformat": 4,
 "nbformat_minor": 5
}
